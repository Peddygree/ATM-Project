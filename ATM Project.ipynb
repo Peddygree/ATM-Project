{
 "cells": [
  {
   "cell_type": "markdown",
   "id": "73947c67-3d94-4650-b852-3bb08dc73df3",
   "metadata": {},
   "source": [
    "ATM PROJECT"
   ]
  },
  {
   "cell_type": "code",
   "execution_count": null,
   "id": "5f40417f-e1d0-40d0-8465-e4b731c698eb",
   "metadata": {},
   "outputs": [],
   "source": [
    "from getpass import getpass\n",
    "\n",
    "user = 'emmanuel effiong'\n",
    "passw = \"peddygree\"\n",
    "log1 = input(\"Enter your Username: \")\n",
    "log2 = getpass('Enter your Password: ')\n",
    "balance = 500459100\n",
    "trials = 0\n",
    "three = 'withdrawn successfully'\n",
    "\n",
    "while trials < 3:\n",
    "    if log1 != user and log2 != passw or log1 == user and log2 != passw or log1 != user and log2 == passw:\n",
    "        trials = trials + 1\n",
    "        print(f'Wrong Username or Password, you have {3-trials} trials left')\n",
    "        log1 = input(\"Enter your Username: \")\n",
    "        log2 = getpass('Enter your Password: ')\n",
    "        continue\n",
    "        \n",
    "    break\n",
    "\n",
    "if log1 == user and log2 == passw:\n",
    "    print(f'Welcome {user}, Login Successful')\n",
    "\n",
    "    print('''\n",
    "    MENU \\n\n",
    "    1. Account Balance \\n\n",
    "    2. Deposit Funds \\n\n",
    "    3. Withdraw Funds\n",
    "    ''')\n",
    "\n",
    "    ask = int(input('Please Make a Selection: '))\n",
    "    if ask == 1:\n",
    "        print(balance)\n",
    "        ask = int(input('Please Make a Selection: '))\n",
    "    elif ask == 2:\n",
    "        ask1 = int(input('How much would you like to deposit?: '))\n",
    "        print(f'Deposit successful, new account balance is {ask1 + balance}')\n",
    "        ask = int(input('Please Make a Selection: '))\n",
    "    elif ask == 3:\n",
    "        ask2 = int(input('How much would you like to withdraw?: '))\n",
    "        if ask2 < balance:\n",
    "            print(f'{ask2} {three}')\n",
    "            print(f'New Balance is {ask2 + balance}')\n",
    "            print(\"Thank you for banking with Us!\")\n",
    "        else:\n",
    "            print('insufficient funds!')\n",
    "    else :\n",
    "         print('You have not made a valid selection')\n",
    "\n",
    "else :\n",
    "    print('Account locked, contact admin!')\n",
    "    \n",
    "    "
   ]
  }
 ],
 "metadata": {
  "kernelspec": {
   "display_name": "Python 3 (ipykernel)",
   "language": "python",
   "name": "python3"
  },
  "language_info": {
   "codemirror_mode": {
    "name": "ipython",
    "version": 3
   },
   "file_extension": ".py",
   "mimetype": "text/x-python",
   "name": "python",
   "nbconvert_exporter": "python",
   "pygments_lexer": "ipython3",
   "version": "3.11.7"
  }
 },
 "nbformat": 4,
 "nbformat_minor": 5
}
